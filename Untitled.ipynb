{
 "cells": [
  {
   "cell_type": "code",
   "execution_count": 60,
   "id": "5f8446b4",
   "metadata": {},
   "outputs": [
    {
     "name": "stdout",
     "output_type": "stream",
     "text": [
      "{'(': 15, ')': 15, '[': 0, ']': 0, '?': 10}\n"
     ]
    },
    {
     "data": {
      "text/plain": [
       "0"
      ]
     },
     "execution_count": 60,
     "metadata": {},
     "output_type": "execute_result"
    }
   ],
   "source": [
    "def isBalanced(freq):\n",
    "    if (freq[\"(\"] == freq[\")\"]) and (freq[\"[\"] == freq[\"]\"]) and ( freq[\"?\"]==0):\n",
    "        return True\n",
    "    elif abs(freq['('] - freq[')'])+abs(freq['['] - freq[']'])-freq['?']==0:\n",
    "        return True\n",
    "    elif abs(freq['('] - freq[')'])==0  and abs(freq['[']- freq[']'])==0 and freq['?']%2==0:\n",
    "        return True\n",
    "    else:\n",
    "        return False\n",
    "        \n",
    "def fillingBlanks(s):\n",
    "    res=0\n",
    "    if len(s)%2==1:\n",
    "        return 0\n",
    "    x= \"()[]?\"\n",
    "    lf= {}\n",
    "    rf= {}\n",
    "    m= {}\n",
    "    for i in x:\n",
    "        lf[i]=0\n",
    "        rf[i]=0\n",
    "        m[i]=0\n",
    "    \n",
    "    for i in range(1):\n",
    "        lf[s[i]]+=1\n",
    "    \n",
    "    for i in range(1, len(s)):\n",
    "        rf[s[i]]+=1\n",
    "        \n",
    "    for i in s:\n",
    "        m[i]+=1\n",
    "    \n",
    "    print(m)\n",
    "    \n",
    "    for i in range(1, len(s)-1):\n",
    "        curr= s[i]\n",
    "        lf[curr]+=1\n",
    "        rf[curr]-=0\n",
    "        if isBalanced(lf) and isBalanced(rf):\n",
    "            res+=1\n",
    "    return res\n",
    "    \n",
    "fillingBlanks(\"))?)?)?))?())()(??(?((())(?)?())((((()(?\")"
   ]
  },
  {
   "cell_type": "code",
   "execution_count": null,
   "id": "6832b6d3",
   "metadata": {},
   "outputs": [],
   "source": []
  },
  {
   "cell_type": "code",
   "execution_count": null,
   "id": "8ba5d0d8",
   "metadata": {},
   "outputs": [],
   "source": []
  }
 ],
 "metadata": {
  "kernelspec": {
   "display_name": "Python 3",
   "language": "python",
   "name": "python3"
  },
  "language_info": {
   "codemirror_mode": {
    "name": "ipython",
    "version": 3
   },
   "file_extension": ".py",
   "mimetype": "text/x-python",
   "name": "python",
   "nbconvert_exporter": "python",
   "pygments_lexer": "ipython3",
   "version": "3.8.8"
  }
 },
 "nbformat": 4,
 "nbformat_minor": 5
}
